{
 "cells": [
  {
   "cell_type": "markdown",
   "id": "a8c2b4a4",
   "metadata": {},
   "source": [
    "# Creating a new audio track:"
   ]
  },
  {
   "cell_type": "code",
   "execution_count": 6,
   "id": "2fc59cdc",
   "metadata": {},
   "outputs": [],
   "source": [
    "import reapy\n",
    "\n",
    "def create_audio_track(project=None, index=None, track_name=\"RPR_AddMediaItemToTrack(MediaTrack tr)\"):\n",
    "    \"\"\"\n",
    "    Description: This function creates a new audio track at a required position.\n",
    "                 Position 1 is index 0, Position 2 is index 1...\n",
    "                 The default position is -1, which is at the end of the track list.\n",
    "\n",
    "    Input Parameters:\n",
    "    project (reapy.Project) - The opened project (optional, if None provided, a new project will be created).\n",
    "    index (int) - The index at which you want to add the track (optional, default is at the end of all tracks).\n",
    "    track_name (str) - The name of the new track you want to add (optional, default is \"Track\").\n",
    "\n",
    "    Return Parameter:\n",
    "    int - The ID of the new track.\n",
    "    \"\"\"\n",
    "\n",
    "    if project is None:\n",
    "        project = reapy.Project()\n",
    "        \n",
    "    if track_name == \"RPR_AddMediaItemToTrack(MediaTrack tr)\":\n",
    "        track_name += f\" {index}\"\n",
    "    \n",
    "    new_track = project.add_track(index)\n",
    "    new_track.name = track_name\n",
    "    \n",
    "    print(f\"A new track has been created at index {index} and named {track_name}\")\n",
    "    \n",
    "    return new_track.id\n"
   ]
  },
  {
   "cell_type": "markdown",
   "id": "f89e61ab",
   "metadata": {},
   "source": [
    "# Creating a New Project:"
   ]
  },
  {
   "cell_type": "code",
   "execution_count": 7,
   "id": "f90a2441",
   "metadata": {},
   "outputs": [],
   "source": [
    "import reapy\n",
    "\n",
    "def create_project():\n",
    "    \"\"\"\n",
    "    Description: Create a project in Reaper using the reapy library.\n",
    "\n",
    "    Input Parameters: None\n",
    "\n",
    "    Return Parameters:\n",
    "    reapy.Project - The created project.\n",
    "    \"\"\"\n",
    "    project = reapy.Project()\n",
    "    return project\n"
   ]
  },
  {
   "cell_type": "markdown",
   "id": "2f4b53b7",
   "metadata": {},
   "source": [
    "# Muting a track:"
   ]
  },
  {
   "cell_type": "code",
   "execution_count": 8,
   "id": "31afd5be",
   "metadata": {},
   "outputs": [],
   "source": [
    "import reapy\n",
    "\n",
    "def mute_track(track_index=None, track_name='', opp=1, all=0):\n",
    "    \"\"\"\n",
    "    Description: This function mutes, unmutes, or toggles the mute button of a track.\n",
    "\n",
    "    Input Parameters:\n",
    "    track_index (int) - The position of the track (0 for the first track, 1 for the second, etc.)\n",
    "    track_name (str) - The name of the track, in case you want to select it by its name.\n",
    "    opp (int) - opp = 1: Mutes the track\n",
    "                opp = -1: Toggles the Mute Button (If track is muted, it unmutes it, and vice versa)\n",
    "                opp = 0: Unmutes the track\n",
    "    all (int) - all = 0: The action is done for only the specified track\n",
    "                all = 1: The action is done for all tracks\n",
    "                all = 2: The action is undone for all tracks\n",
    "\n",
    "    Return Parameter: None\n",
    "    \"\"\"\n",
    "    project = reapy.Project()\n",
    "    track_id = None\n",
    "\n",
    "    if track_name != '':\n",
    "        for track in project.tracks:\n",
    "            if track.name == track_name:\n",
    "                track_id = track.id\n",
    "                break\n",
    "    else:\n",
    "        track_id = project.tracks[track_index].id\n",
    "\n",
    "    if all == 1:\n",
    "        reapy.MuteAllTracks(opp)\n",
    "    elif all == 2:\n",
    "        for track in project.tracks:\n",
    "            reapy.SetTrackUIMute(track.id, 0, 1)\n",
    "    else:\n",
    "        reapy.SetTrackUIMute(track_id, opp, 1)\n"
   ]
  },
  {
   "cell_type": "markdown",
   "id": "3c04f953",
   "metadata": {},
   "source": [
    "# Adding Fade In to a track:"
   ]
  },
  {
   "cell_type": "code",
   "execution_count": 9,
   "id": "04898286",
   "metadata": {},
   "outputs": [],
   "source": [
    "import reapy\n",
    "\n",
    "def add_fade_in_to_media_item(track_index=0, item_index=0, fade_in_length=0.5, fade_in_shape=0):\n",
    "    \"\"\"\n",
    "    Description: This function adds a fade-in effect to a media item on a specific track.\n",
    "\n",
    "    Input Parameters:\n",
    "    track_index (int) - The index of the track where the media item is located.\n",
    "    item_index (int) - The index of the media item within the track.\n",
    "    fade_in_length (float) - The length of the fade-in effect in seconds.\n",
    "    fade_in_shape (float) - The shape of the fade-in curve (0 for linear, 1 for logarithmic, etc.).\n",
    "\n",
    "    Return Parameter: None\n",
    "    \"\"\"\n",
    "    project = reapy.Project()\n",
    "    track = project.tracks[track_index]\n",
    "\n",
    "    if item_index < 0 or item_index >= len(track.items):\n",
    "        print(\"Invalid item index.\")\n",
    "        return\n",
    "\n",
    "    media_item = track.items[item_index]\n",
    "    start_position = media_item.position\n",
    "    fade_in_position = start_position + fade_in_length\n",
    "\n",
    "    media_item.set_fade_in(fade_in_length, fade_in_shape)\n",
    "\n",
    "    print(f\"Fade-in effect of length {fade_in_length} seconds and shape {fade_in_shape} added to media item at index {item_index} in track at index {track_index}.\")\n"
   ]
  },
  {
   "cell_type": "markdown",
   "id": "8bf15277",
   "metadata": {},
   "source": [
    "# Adjusting Master Volume and Pan:"
   ]
  },
  {
   "cell_type": "code",
   "execution_count": 10,
   "id": "ff3266b5",
   "metadata": {},
   "outputs": [],
   "source": [
    "import reapy\n",
    "\n",
    "def adjust_master_volume_pan(vol_pan=0, crement_flag=0, set_value=3):\n",
    "    \"\"\"\n",
    "    Description: This function alters the volume or pan of the master track.\n",
    "\n",
    "    Input Parameters:\n",
    "    vol_pan (int) - vol_pan = 0: Alter the volume\n",
    "                  - vol_pan = 1: Alter the pan\n",
    "    crement_flag (int) - crement_flag = 0: Set the pan/volume to a specified value (set_value).\n",
    "                       - crement_flag = 1: Increase the pan/volume by set_value amount.\n",
    "                       - crement_flag = 2: Change the pan/volume to a fraction (set_value) of its current value.\n",
    "    set_value (float) - The extent to which the pan/volume must be changed.\n",
    "\n",
    "    Return Parameter: None\n",
    "    \"\"\"\n",
    "    project = reapy.Project()\n",
    "\n",
    "    if vol_pan == 0:\n",
    "        current_volume = project.master_track.volume\n",
    "        if crement_flag == 0:\n",
    "            new_value = set_value\n",
    "        elif crement_flag == 1:\n",
    "            new_value = current_volume + set_value\n",
    "        else:\n",
    "            new_value = current_volume * set_value\n",
    "\n",
    "        project.master_track.volume = new_value\n",
    "        print(f\"The volume of the master track has been changed to {new_value} dB\")\n",
    "\n",
    "    elif vol_pan == 1:\n",
    "        current_pan = project.master_track.pan\n",
    "        if crement_flag == 0:\n",
    "            new_value = set_value / 100\n",
    "        elif crement_flag == 1:\n",
    "            new_value = current_pan + set_value / 100\n",
    "        else:\n",
    "            new_value = current_pan * set_value / 100\n",
    "\n",
    "        project.master_track.pan = new_value\n",
    "        print(f\"The pan has been changed to {new_value * 100}%\")\n"
   ]
  },
  {
   "cell_type": "markdown",
   "id": "ac249a4f",
   "metadata": {},
   "source": [
    "# Moving the playhead forward and backward or fast forward/rewind."
   ]
  },
  {
   "cell_type": "code",
   "execution_count": 14,
   "id": "ed72cf61",
   "metadata": {},
   "outputs": [],
   "source": [
    "def move_playhead(seconds: float):\n",
    "    '''\n",
    "    Description:\n",
    "    This function moves the playhead forward or backward by a specified number of seconds.\n",
    "\n",
    "    Input Parameters:\n",
    "    seconds (float): The number of seconds to move the playhead. Positive value moves forward, negative value moves backward.\n",
    "\n",
    "    Return Parameter:\n",
    "    None\n",
    "    '''\n",
    "    RPR_CSurf_OnPlay()\n",
    "\n",
    "    # Get the current play position in seconds\n",
    "    current_pos = RPR.GetPlayPosition()\n",
    "\n",
    "    # Calculate the new position after moving\n",
    "    new_pos = current_pos + seconds\n",
    "\n",
    "    # Move the playhead to the new position\n",
    "    RPR.CSurf_OnSeek(new_pos, False)\n",
    "\n",
    "    # Update the display and reset the play state\n",
    "    RPR.UpdateArrange()\n",
    "    RPR_CSurf_OnStop()\n",
    "    print(f\"Playhead moved {seconds} seconds {'forward' if seconds >= 0 else 'backward'}.\")\n"
   ]
  },
  {
   "cell_type": "markdown",
   "id": "3f640768",
   "metadata": {},
   "source": [
    "# Duplicate track"
   ]
  },
  {
   "cell_type": "code",
   "execution_count": 15,
   "id": "fa898b25",
   "metadata": {},
   "outputs": [],
   "source": [
    "def duplicate_track(project: reapy.Project, track_index: int, new_track_name: str = None):\n",
    "    '''\n",
    "    Description:\n",
    "    This function duplicates an existing track in the project.\n",
    "\n",
    "    Input Parameters:\n",
    "    project (reapy.Project): The Reaper project object.\n",
    "    track_index (int): The index of the track to be duplicated.\n",
    "    new_track_name (str): Optional. The name of the new duplicated track. If not provided, it will be named \"TrackX\" where X is the next available number.\n",
    "\n",
    "    Return Parameter:\n",
    "    The ID of the newly duplicated track.\n",
    "    '''\n",
    "    track_to_duplicate = project.tracks[track_index]\n",
    "    new_track = track_to_duplicate.duplicate()\n",
    "    \n",
    "    if not new_track_name:\n",
    "        new_track_name = f\"Track{len(project.tracks)}\"\n",
    "    \n",
    "    # Set the name of the new track\n",
    "    new_track.name = new_track_name\n",
    "    \n",
    "    print(f\"Track {track_to_duplicate.name} duplicated as {new_track_name}.\")\n",
    "    \n",
    "    return new_track.id\n"
   ]
  },
  {
   "cell_type": "markdown",
   "id": "6fa40b27",
   "metadata": {},
   "source": [
    "# Apply ReaGate to separate loud notes"
   ]
  },
  {
   "cell_type": "code",
   "execution_count": 16,
   "id": "1dbf25bd",
   "metadata": {},
   "outputs": [],
   "source": [
    "def apply_reagate(track: reapy.Track, threshold_db: float = -30, attack_ms: float = 10, hold_ms: float = 50, release_ms: float = 10):\n",
    "    '''\n",
    "    Description:\n",
    "    This function applies ReaGate to a track to separate loud notes.\n",
    "\n",
    "    Input Parameters:\n",
    "    track (reapy.Track): The Reaper track object to which ReaGate will be applied.\n",
    "    threshold_db (float): Optional. The gate threshold in decibels. Default is -30 dB.\n",
    "    attack_ms (float): Optional. The attack time in milliseconds. Default is 10 ms.\n",
    "    hold_ms (float): Optional. The hold time in milliseconds. Default is 50 ms.\n",
    "    release_ms (float): Optional. The release time in milliseconds. Default is 10 ms.\n",
    "\n",
    "    Return Parameter:\n",
    "    None\n",
    "    '''\n",
    "    plugin_name = \"ReaGate\"\n",
    "    fx = track.add_fx(plugin_name)\n",
    "    \n",
    "    # Set ReaGate parameters\n",
    "    fx.set_param(\"Threshold\", threshold_db)\n",
    "    fx.set_param(\"Attack\", attack_ms)\n",
    "    fx.set_param(\"Hold\", hold_ms)\n",
    "    fx.set_param(\"Release\", release_ms)\n",
    "    \n",
    "    print(f\"{plugin_name} applied to {track.name} with Threshold: {threshold_db} dB, Attack: {attack_ms} ms, Hold: {hold_ms} ms, Release: {release_ms} ms.\")\n"
   ]
  },
  {
   "cell_type": "code",
   "execution_count": null,
   "id": "8be181bf",
   "metadata": {},
   "outputs": [],
   "source": []
  }
 ],
 "metadata": {
  "kernelspec": {
   "display_name": "Python 3 (ipykernel)",
   "language": "python",
   "name": "python3"
  },
  "language_info": {
   "codemirror_mode": {
    "name": "ipython",
    "version": 3
   },
   "file_extension": ".py",
   "mimetype": "text/x-python",
   "name": "python",
   "nbconvert_exporter": "python",
   "pygments_lexer": "ipython3",
   "version": "3.9.13"
  }
 },
 "nbformat": 4,
 "nbformat_minor": 5
}
